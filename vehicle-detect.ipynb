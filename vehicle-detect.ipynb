{
 "cells": [
  {
   "cell_type": "code",
   "execution_count": 27,
   "metadata": {},
   "outputs": [],
   "source": [
    "import numpy as np\n",
    "import cv2\n",
    "import matplotlib.pyplot as plt\n",
    "import matplotlib.image as mpimg\n",
    "import glob\n",
    "from skimage.feature import hog\n",
    "\n",
    "\n",
    "car_image_dirs = [\"training\"]\n",
    "car_image_locations = glob.glob(\"./training/vehicles/**/*.png\", recursive=True)\n",
    "non_car_image_locations = glob.glob(\"./training/non-vehicles/**/*.png\",recursive=True)"
   ]
  },
  {
   "cell_type": "code",
   "execution_count": 28,
   "metadata": {
    "collapsed": true
   },
   "outputs": [],
   "source": [
    "def read_image(filename):\n",
    "    image = cv2.imread(filename)\n",
    "    return cv2.resize(image, (32, 32))\n",
    "\n",
    "car_images = [read_image(image) for image in car_image_locations]\n",
    "non_car_images = [read_image(image) for image in non_car_image_locations]"
   ]
  },
  {
   "cell_type": "code",
   "execution_count": 31,
   "metadata": {},
   "outputs": [
    {
     "name": "stderr",
     "output_type": "stream",
     "text": [
      "/Users/mccuisto/miniconda3/envs/carnd-term1/lib/python3.5/site-packages/skimage/feature/_hog.py:119: skimage_deprecation: Default value of `block_norm`==`L1` is deprecated and will be changed to `L2-Hys` in v0.15\n",
      "  'be changed to `L2-Hys` in v0.15', skimage_deprecation)\n"
     ]
    }
   ],
   "source": [
    "def spatial_color_bin_feature(img,size=(16,16)):\n",
    "    return np.ravel(cv2.resize(img, size))\n",
    "\n",
    "def color_hist_feature(img, nbins=32, bins_range=(0, 256)):\n",
    "    hsv_image = cv2.cvtColor(img, cv2.COLOR_RGB2HSV)\n",
    "    # Compute the histogram of the HSV channels separately\n",
    "    hhist = np.histogram(hsv_image[:,:,0], bins=nbins, range=bins_range)\n",
    "    shist = np.histogram(hsv_image[:,:,1], bins=nbins, range=bins_range)\n",
    "    vhist = np.histogram(hsv_image[:,:,2], bins=nbins, range=bins_range)\n",
    "    # Generating bin centers\n",
    "    #bin_edges = hhist[1]\n",
    "    #bin_centers = (bin_edges[1:]  + bin_edges[0:len(bin_edges)-1])/2\n",
    "    # Concatenate the histograms into a single feature vector\n",
    "    hist_features = np.concatenate((hhist[0], shist[0], vhist[0]))\n",
    "    # Return the individual histograms, bin_centers and feature vector\n",
    "    return hist_features\n",
    "\n",
    "def hog_feature(img, orient=6, pix_per_cell=8, cell_per_block=2):\n",
    "    hog_features = []\n",
    "    for channel in range(img.shape[2]):\n",
    "      hog_features.append(hog(img[:,:,channel], orientations=orient, pixels_per_cell=(pix_per_cell, pix_per_cell),\n",
    "                                  cells_per_block=(cell_per_block, cell_per_block), transform_sqrt=False, \n",
    "                                  visualise=False, feature_vector=True))\n",
    "    return np.ravel(hog_features)\n",
    "\n",
    "\n",
    "car_features = [np.concatenate( (color_hist_feature(img), hog_feature(img), spatial_color_bin_feature(img)) ) for img in car_images]\n",
    "non_car_features = [np.concatenate( (color_hist_feature(img), hog_feature(img), spatial_color_bin_feature(img)) ) for img in non_car_images]\n"
   ]
  },
  {
   "cell_type": "code",
   "execution_count": 32,
   "metadata": {},
   "outputs": [
    {
     "name": "stdout",
     "output_type": "stream",
     "text": [
      "(1512,)\n"
     ]
    }
   ],
   "source": [
    "print(car_features[0].shape)"
   ]
  },
  {
   "cell_type": "code",
   "execution_count": 36,
   "metadata": {
    "collapsed": true
   },
   "outputs": [],
   "source": [
    "from sklearn.preprocessing import StandardScaler\n",
    "\n",
    "\n",
    "X = np.vstack([car_features,non_car_features]).astype(np.float64)\n",
    "# Fit a per-column scaler\n",
    "X_scaler = StandardScaler().fit(X)\n",
    "# Apply the scaler to X\n",
    "scaled_X = X_scaler.transform(X)\n",
    "\n",
    "y = np.hstack((np.ones(len(car_features)), \n",
    "              np.zeros(len(non_car_features))))\n"
   ]
  },
  {
   "cell_type": "code",
   "execution_count": 43,
   "metadata": {},
   "outputs": [
    {
     "name": "stdout",
     "output_type": "stream",
     "text": [
      "My SVC predicts:  [ 0.  0.  1.  0.  1.  0.  0.  0.  1.  0.]\n",
      "For these 10 labels:  [ 0.  0.  1.  0.  1.  0.  0.  0.  1.  1.]\n",
      "accuracy: 0.985078828829\n"
     ]
    }
   ],
   "source": [
    "from sklearn.cross_validation import train_test_split\n",
    "from sklearn.svm import LinearSVC\n",
    "\n",
    "rand_state = np.random.randint(0, 100)\n",
    "X_train, X_test, y_train, y_test = train_test_split(\n",
    "    scaled_X, y, test_size=0.2, random_state=rand_state)\n",
    "\n",
    "svc = LinearSVC()\n",
    "svc.fit(X_train, y_train)\n",
    "\n",
    "print(\"accuracy:\", sum( svc.predict(X_test) == y_test ) / len(y_test))\n"
   ]
  },
  {
   "cell_type": "code",
   "execution_count": null,
   "metadata": {
    "collapsed": true
   },
   "outputs": [],
   "source": []
  }
 ],
 "metadata": {
  "kernelspec": {
   "display_name": "Python 3",
   "language": "python",
   "name": "python3"
  },
  "language_info": {
   "codemirror_mode": {
    "name": "ipython",
    "version": 3
   },
   "file_extension": ".py",
   "mimetype": "text/x-python",
   "name": "python",
   "nbconvert_exporter": "python",
   "pygments_lexer": "ipython3",
   "version": "3.5.2"
  },
  "widgets": {
   "state": {},
   "version": "1.1.2"
  }
 },
 "nbformat": 4,
 "nbformat_minor": 2
}
